{
  "cells": [
    {
      "cell_type": "markdown",
      "metadata": {
        "id": "9r4UQEzphrBC"
      },
      "source": [
        "<a href=\"https://colab.research.google.com/github/jeffheaton/present/blob/master/youtube/gan/colab_gan_train.ipynb\" target=\"_parent\"><img src=\"https://colab.research.google.com/assets/colab-badge.svg\" alt=\"Open In Colab\"/></a>"
      ]
    },
    {
      "cell_type": "markdown",
      "metadata": {
        "id": "_9qbVplkZYjp"
      },
      "source": [
        "Copyright 2021 by [Jeff Heaton](https://www.youtube.com/channel/UCR1-GEpyOPzT2AO4D_eifdw), [released under Apache 2.0 license](https://github.com/jeffheaton/present/blob/master/LICENSE)\n",
        "# Training StyleGAN2 in Google CoLab\n",
        "\n",
        "GANs can be trained with either Google Colab Free or Pro.  The Pro version is reccomended due to better GPU instances, longer runtimes, and timeouts.  Make sure that you are running this notebook with a GPU runtime.\n",
        "\n",
        "Your training data and trained neural networks will be stored to GDRIVE.  For GANs, I lay out my GDRIVE like this:\n",
        "\n",
        "* ./data/gan/images - RAW images I wish to train on.\n",
        "* ./data/gan/datasets - Actual training datasets that I convert from the raw images.\n",
        "* ./data/gan/experiments - The output from StyleGAN2, my image previews and saved network snapshots.\n",
        "\n",
        "# What Sort of GPU do you Have?\n",
        "\n",
        "The type of GPU assigned to you by Colab will greatly affect your training time. Some sample times that I achieved with Colab are given here.  I've found that Colab Pro generally starts you with a V100, however, if you run scripts non-stop for 24hrs straight for a few days in a row, you will generally be throttled back to a P100.\n",
        "\n",
        "* 1024x1024 - V100 - 566 sec/tick (CoLab Pro)\n",
        "* 1024x1024 - P100 - 1819 sec/tick (CoLab Pro)\n",
        "* 1024x1024 - T4 - 2188 sec/tick (CoLab Free)\n",
        "\n",
        "If you use Google CoLab Pro, generally, it will not disconnect before 24 hours, even if you (but not your script) are inactive.  Free CoLab WILL disconnect a perfectly good running script if you do not interact for a few hours.  The following describes how to circumvent this issue.\n",
        "\n",
        "* [How to prevent Google Colab from disconnecting?](https://stackoverflow.com/questions/57113226/how-to-prevent-google-colab-from-disconnecting)\n"
      ]
    },
    {
      "cell_type": "code",
      "execution_count": 1,
      "metadata": {
        "colab": {
          "base_uri": "https://localhost:8080/"
        },
        "id": "iPrGcTX8c7E-",
        "outputId": "be833a12-d93e-46bc-f3fa-6a86d69b0904"
      },
      "outputs": [
        {
          "name": "stdout",
          "output_type": "stream",
          "text": [
            "Fri Apr 29 01:49:51 2022       \n",
            "+-----------------------------------------------------------------------------+\n",
            "| NVIDIA-SMI 460.32.03    Driver Version: 460.32.03    CUDA Version: 11.2     |\n",
            "|-------------------------------+----------------------+----------------------+\n",
            "| GPU  Name        Persistence-M| Bus-Id        Disp.A | Volatile Uncorr. ECC |\n",
            "| Fan  Temp  Perf  Pwr:Usage/Cap|         Memory-Usage | GPU-Util  Compute M. |\n",
            "|                               |                      |               MIG M. |\n",
            "|===============================+======================+======================|\n",
            "|   0  Tesla P100-PCIE...  Off  | 00000000:00:04.0 Off |                    0 |\n",
            "| N/A   33C    P0    26W / 250W |      0MiB / 16280MiB |      0%      Default |\n",
            "|                               |                      |                  N/A |\n",
            "+-------------------------------+----------------------+----------------------+\n",
            "                                                                               \n",
            "+-----------------------------------------------------------------------------+\n",
            "| Processes:                                                                  |\n",
            "|  GPU   GI   CI        PID   Type   Process name                  GPU Memory |\n",
            "|        ID   ID                                                   Usage      |\n",
            "|=============================================================================|\n",
            "|  No running processes found                                                 |\n",
            "+-----------------------------------------------------------------------------+\n"
          ]
        }
      ],
      "source": [
        "!nvidia-smi"
      ]
    },
    {
      "cell_type": "markdown",
      "metadata": {
        "id": "wzWrFN_tGV-Y"
      },
      "source": [
        "# Set Up New Environment\n",
        "\n",
        "You will likely need to train for >24 hours.  Colab will disconnect you.  You must be prepared to restart training when this eventually happens.  Training is divided into ticks, every so many ticks (50 by default) your neural network is evaluated and a snapshot is saved.  When CoLab shuts down, all training after the last snapshot is lost. It might seem desirable to snapshot after each tick; however, this snapshotting process itself takes nearly an hour.  It is important to learn an optimal snapshot size for your resolution and training data.\n",
        "\n",
        "We will mount GDRIVE so that your snapshots are saved there.  You must also place your training images in GDRIVE."
      ]
    },
    {
      "cell_type": "code",
      "execution_count": null,
      "metadata": {
        "colab": {
          "base_uri": "https://localhost:8080/"
        },
        "id": "uxs1j1bk_fwj",
        "outputId": "8bc5abae-5116-47a0-c531-b8ac62cbe7b8"
      },
      "outputs": [
        {
          "name": "stdout",
          "output_type": "stream",
          "text": [
            "Mounted at /content/drive\n",
            "Note: using Google CoLab\n"
          ]
        }
      ],
      "source": [
        "try:\n",
        "    from google.colab import drive\n",
        "    drive.mount('/content/drive', force_remount=True)\n",
        "    COLAB = True\n",
        "    print(\"Note: using Google CoLab\")\n",
        "except:\n",
        "    print(\"Note: not using Google CoLab\")\n",
        "    COLAB = False"
      ]
    },
    {
      "cell_type": "markdown",
      "metadata": {
        "id": "X41Ll0WtYqB0"
      },
      "source": [
        "You must also install NVIDIA StyleGAN2 ADA PyTorch.  We also need to downgrade PyTorch to a version that supports StyleGAN."
      ]
    },
    {
      "cell_type": "code",
      "execution_count": null,
      "metadata": {
        "colab": {
          "base_uri": "https://localhost:8080/"
        },
        "id": "uNqsi6VWAlWo",
        "outputId": "df46fdec-d2f2-455e-8ea3-a25baebc6af7"
      },
      "outputs": [
        {
          "name": "stdout",
          "output_type": "stream",
          "text": [
            "Collecting torch==1.8.1\n",
            "  Downloading torch-1.8.1-cp37-cp37m-manylinux1_x86_64.whl (804.1 MB)\n",
            "\u001b[K     |████████████████████████████████| 804.1 MB 2.7 kB/s \n",
            "\u001b[?25hCollecting torchvision==0.9.1\n",
            "  Downloading torchvision-0.9.1-cp37-cp37m-manylinux1_x86_64.whl (17.4 MB)\n",
            "\u001b[K     |████████████████████████████████| 17.4 MB 53.7 MB/s \n",
            "\u001b[?25hRequirement already satisfied: numpy in /usr/local/lib/python3.7/dist-packages (from torch==1.8.1) (1.21.6)\n",
            "Requirement already satisfied: typing-extensions in /usr/local/lib/python3.7/dist-packages (from torch==1.8.1) (4.2.0)\n",
            "Requirement already satisfied: pillow>=4.1.1 in /usr/local/lib/python3.7/dist-packages (from torchvision==0.9.1) (7.1.2)\n",
            "Installing collected packages: torch, torchvision\n",
            "  Attempting uninstall: torch\n",
            "    Found existing installation: torch 1.11.0+cu113\n",
            "    Uninstalling torch-1.11.0+cu113:\n",
            "      Successfully uninstalled torch-1.11.0+cu113\n",
            "  Attempting uninstall: torchvision\n",
            "    Found existing installation: torchvision 0.12.0+cu113\n",
            "    Uninstalling torchvision-0.12.0+cu113:\n",
            "      Successfully uninstalled torchvision-0.12.0+cu113\n",
            "\u001b[31mERROR: pip's dependency resolver does not currently take into account all the packages that are installed. This behaviour is the source of the following dependency conflicts.\n",
            "torchtext 0.12.0 requires torch==1.11.0, but you have torch 1.8.1 which is incompatible.\n",
            "torchaudio 0.11.0+cu113 requires torch==1.11.0, but you have torch 1.8.1 which is incompatible.\u001b[0m\n",
            "Successfully installed torch-1.8.1 torchvision-0.9.1\n",
            "Cloning into 'stylegan2-ada-pytorch'...\n",
            "remote: Enumerating objects: 128, done.\u001b[K\n",
            "remote: Total 128 (delta 0), reused 0 (delta 0), pack-reused 128\u001b[K\n",
            "Receiving objects: 100% (128/128), 1.12 MiB | 22.96 MiB/s, done.\n",
            "Resolving deltas: 100% (57/57), done.\n",
            "Collecting ninja\n",
            "  Downloading ninja-1.10.2.3-py2.py3-none-manylinux_2_5_x86_64.manylinux1_x86_64.whl (108 kB)\n",
            "\u001b[K     |████████████████████████████████| 108 kB 7.3 MB/s \n",
            "\u001b[?25hInstalling collected packages: ninja\n",
            "Successfully installed ninja-1.10.2.3\n"
          ]
        }
      ],
      "source": [
        "!pip install torch==1.8.1 torchvision==0.9.1\n",
        "!git clone https://github.com/NVlabs/stylegan2-ada-pytorch.git\n",
        "!pip install ninja"
      ]
    },
    {
      "cell_type": "markdown",
      "metadata": {
        "id": "_snJl4FEGi4w"
      },
      "source": [
        "# Find Your Files\n",
        "\n",
        "The drive is mounted to the following location.\n",
        "\n",
        "```\n",
        "/content/drive/MyDrive/data\n",
        "```\n",
        "\n",
        "It might be helpful to use an ```ls``` command to establish the exact path for your images."
      ]
    },
    {
      "cell_type": "code",
      "execution_count": null,
      "metadata": {
        "colab": {
          "base_uri": "https://localhost:8080/"
        },
        "id": "LGdFfTSXBBr5",
        "outputId": "c5b3a48c-a4aa-4046-a717-29018ce26955"
      },
      "outputs": [
        {
          "name": "stdout",
          "output_type": "stream",
          "text": [
            "all_128_png_mod  _default_jpg\n"
          ]
        }
      ],
      "source": [
        "!ls /content/drive/MyDrive/data/gan/images"
      ]
    },
    {
      "cell_type": "markdown",
      "metadata": {
        "id": "JXAgXh8uGo13"
      },
      "source": [
        "# Convert Your Images"
      ]
    },
    {
      "cell_type": "code",
      "execution_count": null,
      "metadata": {
        "colab": {
          "base_uri": "https://localhost:8080/"
        },
        "id": "lYP2NlwHA6r9",
        "outputId": "cb94453a-1a54-4d0f-ef6b-70fc2974f815"
      },
      "outputs": [
        {
          "name": "stdout",
          "output_type": "stream",
          "text": [
            "100% 2142/2142 [00:47<00:00, 45.12it/s] \n"
          ]
        }
      ],
      "source": [
        "!python /content/stylegan2-ada-pytorch/dataset_tool.py --source /content/drive/MyDrive/data/gan/images/all_128_png_mod --dest /content/drive/MyDrive/data/gan/dataset/all_128_png_mod"
      ]
    },
    {
      "cell_type": "markdown",
      "metadata": {
        "id": "otsNELpn8_2D"
      },
      "source": [
        "The following command can be used to clear out the newly created dataset.  If something goes wrong and you need to clean up your images and rerun the above command, you should delete your partially created dataset directory."
      ]
    },
    {
      "cell_type": "code",
      "execution_count": null,
      "metadata": {
        "id": "ctdqmU96BhB3"
      },
      "outputs": [],
      "source": [
        "#!rm -R /content/drive/MyDrive/data/gan/dataset/circuit/*"
      ]
    },
    {
      "cell_type": "markdown",
      "metadata": {
        "id": "xmSOo3HvGwgV"
      },
      "source": [
        "# Clean Up your Images\n",
        "\n",
        "It is important that all images have the same dimensions and color depth.  This code can identify images that have issues."
      ]
    },
    {
      "cell_type": "code",
      "execution_count": null,
      "metadata": {
        "colab": {
          "base_uri": "https://localhost:8080/",
          "height": 49,
          "referenced_widgets": [
            "3aed04c821a24fd68f16c72a453734c6",
            "e408f845340f4cfeb62148cebe6f5026",
            "5d1d75051c28492cae957cc2c35c7ec5",
            "87f29953962349cc808a261d080e2704",
            "652681d934a94299a843f0f3941e16c3",
            "be657ae115644370af0142cc54e993ff",
            "3d96698513ed417391e4cdf46f4f6b63",
            "805f8b953f8b4cc99e885c5c5aac1b1c",
            "d5d33f6313a541beb5121ae39dcae63a",
            "1cd5b81de6b74e71abf0a959d835e360",
            "911a0c16b6184eada73eda2a5aa8bcda"
          ]
        },
        "id": "FLKBUUfXHJ0a",
        "outputId": "c223d65d-4ad9-4134-ce4d-d19b8686a5d7"
      },
      "outputs": [
        {
          "data": {
            "application/vnd.jupyter.widget-view+json": {
              "model_id": "3aed04c821a24fd68f16c72a453734c6",
              "version_major": 2,
              "version_minor": 0
            },
            "text/plain": [
              "  0%|          | 0/2142 [00:00<?, ?it/s]"
            ]
          },
          "metadata": {},
          "output_type": "display_data"
        }
      ],
      "source": [
        "from os import listdir\n",
        "from os.path import isfile, join\n",
        "import os\n",
        "from PIL import Image\n",
        "from tqdm.notebook import tqdm\n",
        "\n",
        "IMAGE_PATH = '/content/drive/MyDrive/data/gan/images/all_128_png_mod'\n",
        "files = [f for f in listdir(IMAGE_PATH) if isfile(join(IMAGE_PATH, f))]\n",
        "\n",
        "base_size = None\n",
        "for file in tqdm(files):\n",
        "  file2 = os.path.join(IMAGE_PATH,file)\n",
        "  img = Image.open(file2)\n",
        "  sz = img.size\n",
        "  if base_size and sz!=base_size:\n",
        "    print(f\"Inconsistant size: {file2}\")\n",
        "  elif img.mode!='RGB':\n",
        "    print(f\"Inconsistant color format: {file2}\")\n",
        "  else:\n",
        "    base_size = sz\n"
      ]
    },
    {
      "cell_type": "markdown",
      "metadata": {
        "id": "5No-bokaG5Ed"
      },
      "source": [
        "# Perform Initial Training"
      ]
    },
    {
      "cell_type": "code",
      "execution_count": null,
      "metadata": {
        "colab": {
          "background_save": true,
          "base_uri": "https://localhost:8080/"
        },
        "id": "tzAdHMp7KLzz",
        "outputId": "c4dd58cc-0c72-4f41-8639-aa89a77db19d"
      },
      "outputs": [
        {
          "name": "stdout",
          "output_type": "stream",
          "text": [
            "\n",
            "Training options:\n",
            "{\n",
            "  \"num_gpus\": 1,\n",
            "  \"image_snapshot_ticks\": 10,\n",
            "  \"network_snapshot_ticks\": 10,\n",
            "  \"metrics\": [\n",
            "    \"fid50k_full\"\n",
            "  ],\n",
            "  \"random_seed\": 0,\n",
            "  \"training_set_kwargs\": {\n",
            "    \"class_name\": \"training.dataset.ImageFolderDataset\",\n",
            "    \"path\": \"/content/drive/MyDrive/data/gan/dataset/all_128_png_mod\",\n",
            "    \"use_labels\": false,\n",
            "    \"max_size\": 2142,\n",
            "    \"xflip\": false,\n",
            "    \"resolution\": 128\n",
            "  },\n",
            "  \"data_loader_kwargs\": {\n",
            "    \"pin_memory\": true,\n",
            "    \"num_workers\": 3,\n",
            "    \"prefetch_factor\": 2\n",
            "  },\n",
            "  \"G_kwargs\": {\n",
            "    \"class_name\": \"training.networks.Generator\",\n",
            "    \"z_dim\": 512,\n",
            "    \"w_dim\": 512,\n",
            "    \"mapping_kwargs\": {\n",
            "      \"num_layers\": 2\n",
            "    },\n",
            "    \"synthesis_kwargs\": {\n",
            "      \"channel_base\": 16384,\n",
            "      \"channel_max\": 512,\n",
            "      \"num_fp16_res\": 4,\n",
            "      \"conv_clamp\": 256\n",
            "    }\n",
            "  },\n",
            "  \"D_kwargs\": {\n",
            "    \"class_name\": \"training.networks.Discriminator\",\n",
            "    \"block_kwargs\": {},\n",
            "    \"mapping_kwargs\": {},\n",
            "    \"epilogue_kwargs\": {\n",
            "      \"mbstd_group_size\": 4\n",
            "    },\n",
            "    \"channel_base\": 16384,\n",
            "    \"channel_max\": 512,\n",
            "    \"num_fp16_res\": 4,\n",
            "    \"conv_clamp\": 256\n",
            "  },\n",
            "  \"G_opt_kwargs\": {\n",
            "    \"class_name\": \"torch.optim.Adam\",\n",
            "    \"lr\": 0.0025,\n",
            "    \"betas\": [\n",
            "      0,\n",
            "      0.99\n",
            "    ],\n",
            "    \"eps\": 1e-08\n",
            "  },\n",
            "  \"D_opt_kwargs\": {\n",
            "    \"class_name\": \"torch.optim.Adam\",\n",
            "    \"lr\": 0.0025,\n",
            "    \"betas\": [\n",
            "      0,\n",
            "      0.99\n",
            "    ],\n",
            "    \"eps\": 1e-08\n",
            "  },\n",
            "  \"loss_kwargs\": {\n",
            "    \"class_name\": \"training.loss.StyleGAN2Loss\",\n",
            "    \"r1_gamma\": 0.1024\n",
            "  },\n",
            "  \"total_kimg\": 25000,\n",
            "  \"batch_size\": 32,\n",
            "  \"batch_gpu\": 32,\n",
            "  \"ema_kimg\": 10.0,\n",
            "  \"ema_rampup\": null,\n",
            "  \"ada_target\": 0.6,\n",
            "  \"augment_kwargs\": {\n",
            "    \"class_name\": \"training.augment.AugmentPipe\",\n",
            "    \"xflip\": 1,\n",
            "    \"rotate90\": 1,\n",
            "    \"xint\": 1,\n",
            "    \"scale\": 1,\n",
            "    \"rotate\": 1,\n",
            "    \"aniso\": 1,\n",
            "    \"xfrac\": 1,\n",
            "    \"brightness\": 1,\n",
            "    \"contrast\": 1,\n",
            "    \"lumaflip\": 1,\n",
            "    \"hue\": 1,\n",
            "    \"saturation\": 1\n",
            "  },\n",
            "  \"resume_pkl\": \"https://nvlabs-fi-cdn.nvidia.com/stylegan2-ada-pytorch/pretrained/transfer-learning-source-nets/ffhq-res256-mirror-paper256-noaug.pkl\",\n",
            "  \"ada_kimg\": 100,\n",
            "  \"run_dir\": \"/content/drive/MyDrive/data/gan/experiments/00003-all_128_png_mod-auto1-resumeffhq256\"\n",
            "}\n",
            "\n",
            "Output directory:   /content/drive/MyDrive/data/gan/experiments/00003-all_128_png_mod-auto1-resumeffhq256\n",
            "Training data:      /content/drive/MyDrive/data/gan/dataset/all_128_png_mod\n",
            "Training duration:  25000 kimg\n",
            "Number of GPUs:     1\n",
            "Number of images:   2142\n",
            "Image resolution:   128\n",
            "Conditional model:  False\n",
            "Dataset x-flips:    False\n",
            "\n",
            "Creating output directory...\n",
            "Launching processes...\n",
            "Loading training set...\n",
            "/usr/local/lib/python3.7/dist-packages/torch/utils/data/dataloader.py:477: UserWarning: This DataLoader will create 3 worker processes in total. Our suggested max number of worker in current system is 2, which is smaller than what this DataLoader is going to create. Please be aware that excessive worker creation might get DataLoader running slow or even freeze, lower the worker number to avoid potential slowness/freeze if necessary.\n",
            "  cpuset_checked))\n",
            "\n",
            "Num images:  2142\n",
            "Image shape: [3, 128, 128]\n",
            "Label shape: [0]\n",
            "\n",
            "Constructing networks...\n",
            "Resuming from \"https://nvlabs-fi-cdn.nvidia.com/stylegan2-ada-pytorch/pretrained/transfer-learning-source-nets/ffhq-res256-mirror-paper256-noaug.pkl\"\n",
            "Setting up PyTorch plugin \"bias_act_plugin\"... Done.\n",
            "Setting up PyTorch plugin \"upfirdn2d_plugin\"... Done.\n",
            "\n",
            "Generator             Parameters  Buffers  Output shape         Datatype\n",
            "---                   ---         ---      ---                  ---     \n",
            "mapping.fc0           262656      -        [32, 512]            float32 \n",
            "mapping.fc1           262656      -        [32, 512]            float32 \n",
            "mapping               -           512      [32, 12, 512]        float32 \n",
            "synthesis.b4.conv1    2622465     32       [32, 512, 4, 4]      float32 \n",
            "synthesis.b4.torgb    264195      -        [32, 3, 4, 4]        float32 \n",
            "synthesis.b4:0        8192        16       [32, 512, 4, 4]      float32 \n",
            "synthesis.b4:1        -           -        [32, 512, 4, 4]      float32 \n",
            "synthesis.b8.conv0    2622465     80       [32, 512, 8, 8]      float32 \n",
            "synthesis.b8.conv1    2622465     80       [32, 512, 8, 8]      float32 \n",
            "synthesis.b8.torgb    264195      -        [32, 3, 8, 8]        float32 \n",
            "synthesis.b8:0        -           16       [32, 512, 8, 8]      float32 \n",
            "synthesis.b8:1        -           -        [32, 512, 8, 8]      float32 \n",
            "synthesis.b16.conv0   2622465     272      [32, 512, 16, 16]    float16 \n",
            "synthesis.b16.conv1   2622465     272      [32, 512, 16, 16]    float16 \n",
            "synthesis.b16.torgb   264195      -        [32, 3, 16, 16]      float16 \n",
            "synthesis.b16:0       -           16       [32, 512, 16, 16]    float16 \n",
            "synthesis.b16:1       -           -        [32, 512, 16, 16]    float32 \n",
            "synthesis.b32.conv0   2622465     1040     [32, 512, 32, 32]    float16 \n",
            "synthesis.b32.conv1   2622465     1040     [32, 512, 32, 32]    float16 \n",
            "synthesis.b32.torgb   264195      -        [32, 3, 32, 32]      float16 \n",
            "synthesis.b32:0       -           16       [32, 512, 32, 32]    float16 \n",
            "synthesis.b32:1       -           -        [32, 512, 32, 32]    float32 \n",
            "synthesis.b64.conv0   1442561     4112     [32, 256, 64, 64]    float16 \n",
            "synthesis.b64.conv1   721409      4112     [32, 256, 64, 64]    float16 \n",
            "synthesis.b64.torgb   132099      -        [32, 3, 64, 64]      float16 \n",
            "synthesis.b64:0       -           16       [32, 256, 64, 64]    float16 \n",
            "synthesis.b64:1       -           -        [32, 256, 64, 64]    float32 \n",
            "synthesis.b128.conv0  426369      16400    [32, 128, 128, 128]  float16 \n",
            "synthesis.b128.conv1  213249      16400    [32, 128, 128, 128]  float16 \n",
            "synthesis.b128.torgb  66051       -        [32, 3, 128, 128]    float16 \n",
            "synthesis.b128:0      -           16       [32, 128, 128, 128]  float16 \n",
            "synthesis.b128:1      -           -        [32, 128, 128, 128]  float32 \n",
            "---                   ---         ---      ---                  ---     \n",
            "Total                 22949277    44448    -                    -       \n",
            "\n",
            "\n",
            "Discriminator  Parameters  Buffers  Output shape         Datatype\n",
            "---            ---         ---      ---                  ---     \n",
            "b128.fromrgb   512         16       [32, 128, 128, 128]  float16 \n",
            "b128.skip      32768       16       [32, 256, 64, 64]    float16 \n",
            "b128.conv0     147584      16       [32, 128, 128, 128]  float16 \n",
            "b128.conv1     295168      16       [32, 256, 64, 64]    float16 \n",
            "b128           -           16       [32, 256, 64, 64]    float16 \n",
            "b64.skip       131072      16       [32, 512, 32, 32]    float16 \n",
            "b64.conv0      590080      16       [32, 256, 64, 64]    float16 \n",
            "b64.conv1      1180160     16       [32, 512, 32, 32]    float16 \n",
            "b64            -           16       [32, 512, 32, 32]    float16 \n",
            "b32.skip       262144      16       [32, 512, 16, 16]    float16 \n",
            "b32.conv0      2359808     16       [32, 512, 32, 32]    float16 \n",
            "b32.conv1      2359808     16       [32, 512, 16, 16]    float16 \n",
            "b32            -           16       [32, 512, 16, 16]    float16 \n",
            "b16.skip       262144      16       [32, 512, 8, 8]      float16 \n",
            "b16.conv0      2359808     16       [32, 512, 16, 16]    float16 \n",
            "b16.conv1      2359808     16       [32, 512, 8, 8]      float16 \n",
            "b16            -           16       [32, 512, 8, 8]      float16 \n",
            "b8.skip        262144      16       [32, 512, 4, 4]      float32 \n",
            "b8.conv0       2359808     16       [32, 512, 8, 8]      float32 \n",
            "b8.conv1       2359808     16       [32, 512, 4, 4]      float32 \n",
            "b8             -           16       [32, 512, 4, 4]      float32 \n",
            "b4.mbstd       -           -        [32, 513, 4, 4]      float32 \n",
            "b4.conv        2364416     16       [32, 512, 4, 4]      float32 \n",
            "b4.fc          4194816     -        [32, 512]            float32 \n",
            "b4.out         513         -        [32, 1]              float32 \n",
            "---            ---         ---      ---                  ---     \n",
            "Total          23882369    352      -                    -       \n",
            "\n",
            "Setting up augmentation...\n",
            "Distributing across 1 GPUs...\n",
            "Setting up training phases...\n",
            "Exporting sample images...\n",
            "Initializing logs...\n",
            "Training for 25000 kimg...\n",
            "\n",
            "tick 0     kimg 0.0      time 42s          sec/tick 8.3     sec/kimg 258.33  maintenance 34.0   cpumem 4.72   gpumem 11.42  augment 0.000\n",
            "Evaluating metrics...\n",
            "{\"results\": {\"fid50k_full\": 279.35213506041543}, \"metric\": \"fid50k_full\", \"total_time\": 485.8865351676941, \"total_time_str\": \"8m 06s\", \"num_gpus\": 1, \"snapshot_pkl\": \"network-snapshot-000000.pkl\", \"timestamp\": 1651125565.97808}\n",
            "tick 1     kimg 4.0      time 11m 45s      sec/tick 161.7   sec/kimg 40.41   maintenance 501.6  cpumem 5.09   gpumem 6.20   augment 0.017\n",
            "tick 2     kimg 8.0      time 14m 28s      sec/tick 162.4   sec/kimg 40.60   maintenance 0.2    cpumem 5.09   gpumem 6.20   augment 0.046\n",
            "tick 3     kimg 12.0     time 17m 11s      sec/tick 162.4   sec/kimg 40.61   maintenance 0.2    cpumem 5.09   gpumem 6.20   augment 0.077\n",
            "tick 4     kimg 16.0     time 19m 54s      sec/tick 163.0   sec/kimg 40.76   maintenance 0.0    cpumem 5.09   gpumem 6.20   augment 0.109\n",
            "tick 5     kimg 20.0     time 22m 37s      sec/tick 162.7   sec/kimg 40.67   maintenance 0.2    cpumem 5.09   gpumem 6.20   augment 0.138\n",
            "tick 6     kimg 24.0     time 25m 19s      sec/tick 162.2   sec/kimg 40.56   maintenance 0.2    cpumem 5.09   gpumem 6.20   augment 0.168\n",
            "tick 7     kimg 28.0     time 28m 02s      sec/tick 163.1   sec/kimg 40.78   maintenance 0.2    cpumem 5.09   gpumem 6.20   augment 0.193\n",
            "tick 8     kimg 32.0     time 30m 46s      sec/tick 163.4   sec/kimg 40.85   maintenance 0.0    cpumem 5.09   gpumem 6.20   augment 0.225\n",
            "tick 9     kimg 36.0     time 33m 29s      sec/tick 163.0   sec/kimg 40.75   maintenance 0.2    cpumem 5.09   gpumem 6.20   augment 0.257\n",
            "tick 10    kimg 40.0     time 36m 12s      sec/tick 163.1   sec/kimg 40.77   maintenance 0.2    cpumem 5.09   gpumem 6.20   augment 0.284\n",
            "Evaluating metrics...\n",
            "{\"results\": {\"fid50k_full\": 146.41619205355502}, \"metric\": \"fid50k_full\", \"total_time\": 480.8002290725708, \"total_time_str\": \"8m 01s\", \"num_gpus\": 1, \"snapshot_pkl\": \"network-snapshot-000040.pkl\", \"timestamp\": 1651127688.8218632}\n",
            "tick 11    kimg 44.0     time 47m 09s      sec/tick 162.5   sec/kimg 40.62   maintenance 494.4  cpumem 5.40   gpumem 6.20   augment 0.312\n",
            "tick 12    kimg 48.0     time 49m 53s      sec/tick 163.6   sec/kimg 40.89   maintenance 0.0    cpumem 5.40   gpumem 6.20   augment 0.339\n",
            "tick 13    kimg 52.0     time 52m 36s      sec/tick 163.3   sec/kimg 40.82   maintenance 0.2    cpumem 5.40   gpumem 6.20   augment 0.366\n",
            "tick 14    kimg 56.0     time 55m 20s      sec/tick 163.2   sec/kimg 40.81   maintenance 0.2    cpumem 5.40   gpumem 6.20   augment 0.393\n",
            "tick 15    kimg 60.0     time 58m 03s      sec/tick 163.5   sec/kimg 40.88   maintenance 0.2    cpumem 5.40   gpumem 6.20   augment 0.416\n",
            "tick 16    kimg 64.0     time 1h 00m 47s   sec/tick 163.9   sec/kimg 40.97   maintenance 0.0    cpumem 5.40   gpumem 6.20   augment 0.440\n",
            "tick 17    kimg 68.0     time 1h 03m 30s   sec/tick 163.1   sec/kimg 40.77   maintenance 0.2    cpumem 5.40   gpumem 6.20   augment 0.467\n",
            "tick 18    kimg 72.0     time 1h 06m 14s   sec/tick 163.5   sec/kimg 40.88   maintenance 0.2    cpumem 5.40   gpumem 6.20   augment 0.492\n",
            "tick 19    kimg 76.0     time 1h 08m 58s   sec/tick 163.7   sec/kimg 40.92   maintenance 0.2    cpumem 5.40   gpumem 6.20   augment 0.507\n",
            "tick 20    kimg 80.0     time 1h 11m 42s   sec/tick 164.1   sec/kimg 41.02   maintenance 0.0    cpumem 5.40   gpumem 6.20   augment 0.521\n",
            "Evaluating metrics...\n",
            "{\"results\": {\"fid50k_full\": 95.53689061182317}, \"metric\": \"fid50k_full\", \"total_time\": 486.61736607551575, \"total_time_str\": \"8m 07s\", \"num_gpus\": 1, \"snapshot_pkl\": \"network-snapshot-000080.pkl\", \"timestamp\": 1651129823.0316145}\n",
            "tick 21    kimg 84.0     time 1h 22m 44s   sec/tick 163.2   sec/kimg 40.79   maintenance 498.7  cpumem 5.40   gpumem 6.20   augment 0.540\n",
            "tick 22    kimg 88.0     time 1h 25m 27s   sec/tick 163.1   sec/kimg 40.77   maintenance 0.2    cpumem 5.40   gpumem 6.20   augment 0.553\n",
            "tick 23    kimg 92.0     time 1h 28m 11s   sec/tick 163.9   sec/kimg 40.98   maintenance 0.2    cpumem 5.40   gpumem 6.20   augment 0.571\n",
            "tick 24    kimg 96.0     time 1h 30m 56s   sec/tick 164.4   sec/kimg 41.09   maintenance 0.0    cpumem 5.40   gpumem 6.20   augment 0.590\n",
            "tick 25    kimg 100.0    time 1h 33m 40s   sec/tick 163.8   sec/kimg 40.95   maintenance 0.2    cpumem 5.40   gpumem 6.20   augment 0.605\n",
            "tick 26    kimg 104.0    time 1h 36m 24s   sec/tick 163.8   sec/kimg 40.95   maintenance 0.2    cpumem 5.40   gpumem 6.20   augment 0.612\n",
            "tick 27    kimg 108.0    time 1h 39m 08s   sec/tick 163.6   sec/kimg 40.90   maintenance 0.2    cpumem 5.40   gpumem 6.20   augment 0.640\n",
            "tick 28    kimg 112.0    time 1h 41m 52s   sec/tick 164.4   sec/kimg 41.10   maintenance 0.0    cpumem 5.41   gpumem 6.20   augment 0.663\n",
            "tick 29    kimg 116.0    time 1h 44m 36s   sec/tick 163.9   sec/kimg 40.98   maintenance 0.2    cpumem 5.41   gpumem 6.20   augment 0.675\n",
            "tick 30    kimg 120.0    time 1h 47m 20s   sec/tick 164.2   sec/kimg 41.05   maintenance 0.2    cpumem 5.41   gpumem 6.21   augment 0.691\n",
            "Evaluating metrics...\n",
            "{\"results\": {\"fid50k_full\": 83.89011207706}, \"metric\": \"fid50k_full\", \"total_time\": 484.06097650527954, \"total_time_str\": \"8m 04s\", \"num_gpus\": 1, \"snapshot_pkl\": \"network-snapshot-000120.pkl\", \"timestamp\": 1651131958.5771399}\n",
            "tick 31    kimg 124.0    time 1h 58m 20s   sec/tick 163.7   sec/kimg 40.93   maintenance 496.0  cpumem 5.40   gpumem 6.20   augment 0.712\n",
            "tick 32    kimg 128.0    time 2h 01m 04s   sec/tick 164.3   sec/kimg 41.08   maintenance 0.0    cpumem 5.40   gpumem 6.20   augment 0.736\n",
            "tick 33    kimg 132.0    time 2h 03m 48s   sec/tick 163.4   sec/kimg 40.84   maintenance 0.2    cpumem 5.40   gpumem 6.20   augment 0.745\n",
            "tick 34    kimg 136.0    time 2h 06m 32s   sec/tick 164.0   sec/kimg 40.99   maintenance 0.2    cpumem 5.40   gpumem 6.20   augment 0.762\n",
            "tick 35    kimg 140.0    time 2h 09m 17s   sec/tick 164.2   sec/kimg 41.05   maintenance 0.2    cpumem 5.40   gpumem 6.21   augment 0.771\n",
            "tick 36    kimg 144.0    time 2h 12m 01s   sec/tick 164.4   sec/kimg 41.11   maintenance 0.0    cpumem 5.40   gpumem 6.20   augment 0.780\n",
            "tick 37    kimg 148.0    time 2h 14m 45s   sec/tick 164.0   sec/kimg 40.99   maintenance 0.2    cpumem 5.40   gpumem 6.20   augment 0.788\n",
            "tick 38    kimg 152.0    time 2h 17m 29s   sec/tick 163.6   sec/kimg 40.90   maintenance 0.2    cpumem 5.40   gpumem 6.20   augment 0.797\n",
            "tick 39    kimg 156.0    time 2h 20m 13s   sec/tick 164.2   sec/kimg 41.05   maintenance 0.2    cpumem 5.40   gpumem 6.20   augment 0.813\n",
            "tick 40    kimg 160.0    time 2h 22m 58s   sec/tick 164.6   sec/kimg 41.16   maintenance 0.0    cpumem 5.40   gpumem 6.20   augment 0.832\n",
            "Evaluating metrics...\n",
            "{\"results\": {\"fid50k_full\": 75.77609726562194}, \"metric\": \"fid50k_full\", \"total_time\": 485.22003149986267, \"total_time_str\": \"8m 05s\", \"num_gpus\": 1, \"snapshot_pkl\": \"network-snapshot-000160.pkl\", \"timestamp\": 1651134097.291808}\n",
            "tick 41    kimg 164.0    time 2h 33m 59s   sec/tick 163.6   sec/kimg 40.91   maintenance 497.1  cpumem 5.39   gpumem 6.20   augment 0.844\n",
            "tick 42    kimg 168.0    time 2h 36m 43s   sec/tick 164.0   sec/kimg 40.99   maintenance 0.2    cpumem 5.39   gpumem 6.20   augment 0.860\n",
            "tick 43    kimg 172.0    time 2h 39m 27s   sec/tick 163.9   sec/kimg 40.97   maintenance 0.2    cpumem 5.39   gpumem 6.20   augment 0.873\n",
            "tick 44    kimg 176.0    time 2h 42m 12s   sec/tick 164.6   sec/kimg 41.15   maintenance 0.0    cpumem 5.39   gpumem 6.20   augment 0.887\n",
            "tick 45    kimg 180.0    time 2h 44m 56s   sec/tick 164.2   sec/kimg 41.04   maintenance 0.2    cpumem 5.39   gpumem 6.20   augment 0.884\n",
            "tick 46    kimg 184.0    time 2h 47m 40s   sec/tick 164.0   sec/kimg 41.01   maintenance 0.2    cpumem 5.39   gpumem 6.20   augment 0.892\n",
            "tick 47    kimg 188.0    time 2h 50m 25s   sec/tick 164.3   sec/kimg 41.06   maintenance 0.2    cpumem 5.39   gpumem 6.20   augment 0.908\n",
            "tick 48    kimg 192.0    time 2h 53m 10s   sec/tick 164.9   sec/kimg 41.22   maintenance 0.0    cpumem 5.39   gpumem 6.20   augment 0.924\n",
            "tick 49    kimg 196.0    time 2h 55m 54s   sec/tick 164.1   sec/kimg 41.02   maintenance 0.2    cpumem 5.39   gpumem 6.21   augment 0.941\n",
            "tick 50    kimg 200.0    time 2h 58m 38s   sec/tick 164.4   sec/kimg 41.11   maintenance 0.2    cpumem 5.39   gpumem 6.20   augment 0.957\n",
            "Evaluating metrics...\n",
            "{\"results\": {\"fid50k_full\": 75.79378125769557}, \"metric\": \"fid50k_full\", \"total_time\": 482.1713376045227, \"total_time_str\": \"8m 02s\", \"num_gpus\": 1, \"snapshot_pkl\": \"network-snapshot-000200.pkl\", \"timestamp\": 1651136234.2754116}\n",
            "tick 51    kimg 204.0    time 3h 09m 36s   sec/tick 163.9   sec/kimg 40.98   maintenance 493.7  cpumem 5.26   gpumem 6.20   augment 0.961\n",
            "tick 52    kimg 208.0    time 3h 12m 20s   sec/tick 164.5   sec/kimg 41.11   maintenance 0.0    cpumem 5.26   gpumem 6.21   augment 0.968\n",
            "tick 53    kimg 212.0    time 3h 15m 05s   sec/tick 164.0   sec/kimg 40.99   maintenance 0.2    cpumem 5.26   gpumem 6.21   augment 0.984\n",
            "tick 54    kimg 216.0    time 3h 17m 48s   sec/tick 163.6   sec/kimg 40.90   maintenance 0.2    cpumem 5.26   gpumem 6.21   augment 1.004\n",
            "tick 55    kimg 220.0    time 3h 20m 33s   sec/tick 164.2   sec/kimg 41.06   maintenance 0.2    cpumem 5.26   gpumem 6.20   augment 1.021\n",
            "tick 56    kimg 224.0    time 3h 23m 17s   sec/tick 164.6   sec/kimg 41.15   maintenance 0.0    cpumem 5.26   gpumem 6.21   augment 1.038\n",
            "tick 57    kimg 228.0    time 3h 26m 02s   sec/tick 164.1   sec/kimg 41.02   maintenance 0.2    cpumem 5.26   gpumem 6.21   augment 1.060\n",
            "tick 58    kimg 232.0    time 3h 28m 46s   sec/tick 164.1   sec/kimg 41.02   maintenance 0.2    cpumem 5.26   gpumem 6.21   augment 1.079\n",
            "tick 59    kimg 236.0    time 3h 31m 30s   sec/tick 163.8   sec/kimg 40.95   maintenance 0.2    cpumem 5.26   gpumem 6.21   augment 1.105\n",
            "tick 60    kimg 240.0    time 3h 34m 15s   sec/tick 164.6   sec/kimg 41.15   maintenance 0.0    cpumem 5.26   gpumem 6.20   augment 1.121\n",
            "Evaluating metrics...\n",
            "{\"results\": {\"fid50k_full\": 70.67715982389204}, \"metric\": \"fid50k_full\", \"total_time\": 481.03687810897827, \"total_time_str\": \"8m 01s\", \"num_gpus\": 1, \"snapshot_pkl\": \"network-snapshot-000240.pkl\", \"timestamp\": 1651138369.599592}\n",
            "tick 61    kimg 244.0    time 3h 45m 12s   sec/tick 164.7   sec/kimg 41.17   maintenance 492.8  cpumem 5.08   gpumem 6.21   augment 1.151\n",
            "tick 62    kimg 248.0    time 3h 47m 57s   sec/tick 164.6   sec/kimg 41.15   maintenance 0.2    cpumem 5.08   gpumem 6.21   augment 1.171\n",
            "tick 63    kimg 252.0    time 3h 50m 42s   sec/tick 164.8   sec/kimg 41.20   maintenance 0.2    cpumem 5.08   gpumem 6.21   augment 1.192\n",
            "tick 64    kimg 256.0    time 3h 53m 27s   sec/tick 165.1   sec/kimg 41.28   maintenance 0.0    cpumem 5.08   gpumem 6.21   augment 1.208\n",
            "tick 65    kimg 260.0    time 3h 56m 11s   sec/tick 164.1   sec/kimg 41.03   maintenance 0.2    cpumem 5.08   gpumem 6.21   augment 1.238\n",
            "tick 66    kimg 264.0    time 3h 58m 56s   sec/tick 164.5   sec/kimg 41.13   maintenance 0.2    cpumem 5.08   gpumem 6.21   augment 1.260\n",
            "tick 67    kimg 268.0    time 4h 01m 41s   sec/tick 164.6   sec/kimg 41.16   maintenance 0.2    cpumem 5.08   gpumem 6.21   augment 1.281\n",
            "tick 68    kimg 272.0    time 4h 04m 26s   sec/tick 165.1   sec/kimg 41.27   maintenance 0.0    cpumem 5.08   gpumem 6.21   augment 1.311\n",
            "tick 69    kimg 276.0    time 4h 07m 11s   sec/tick 164.6   sec/kimg 41.16   maintenance 0.2    cpumem 5.08   gpumem 6.21   augment 1.338\n",
            "tick 70    kimg 280.0    time 4h 09m 55s   sec/tick 163.8   sec/kimg 40.94   maintenance 0.2    cpumem 5.08   gpumem 6.21   augment 1.367\n",
            "Evaluating metrics...\n",
            "{\"results\": {\"fid50k_full\": 69.83202380771415}, \"metric\": \"fid50k_full\", \"total_time\": 478.16846084594727, \"total_time_str\": \"7m 58s\", \"num_gpus\": 1, \"snapshot_pkl\": \"network-snapshot-000280.pkl\", \"timestamp\": 1651140506.6982846}\n",
            "tick 71    kimg 284.0    time 4h 20m 47s   sec/tick 162.9   sec/kimg 40.73   maintenance 489.7  cpumem 5.38   gpumem 6.21   augment 1.398\n",
            "tick 72    kimg 288.0    time 4h 23m 31s   sec/tick 163.6   sec/kimg 40.89   maintenance 0.0    cpumem 5.38   gpumem 6.20   augment 1.425\n",
            "tick 73    kimg 292.0    time 4h 26m 14s   sec/tick 163.0   sec/kimg 40.75   maintenance 0.2    cpumem 5.38   gpumem 6.21   augment 1.457\n",
            "tick 74    kimg 296.0    time 4h 28m 58s   sec/tick 163.2   sec/kimg 40.80   maintenance 0.2    cpumem 5.38   gpumem 6.21   augment 1.485\n",
            "tick 75    kimg 300.0    time 4h 31m 41s   sec/tick 162.9   sec/kimg 40.73   maintenance 0.2    cpumem 5.38   gpumem 6.21   augment 1.516\n",
            "tick 76    kimg 304.0    time 4h 34m 24s   sec/tick 163.7   sec/kimg 40.93   maintenance 0.0    cpumem 5.38   gpumem 6.21   augment 1.545\n",
            "tick 77    kimg 308.0    time 4h 37m 08s   sec/tick 163.1   sec/kimg 40.78   maintenance 0.2    cpumem 5.38   gpumem 6.21   augment 1.567\n",
            "tick 78    kimg 312.0    time 4h 39m 51s   sec/tick 163.1   sec/kimg 40.78   maintenance 0.2    cpumem 5.38   gpumem 6.21   augment 1.591\n",
            "tick 79    kimg 316.0    time 4h 42m 35s   sec/tick 163.3   sec/kimg 40.83   maintenance 0.2    cpumem 5.38   gpumem 6.20   augment 1.622\n",
            "tick 80    kimg 320.0    time 4h 45m 18s   sec/tick 163.6   sec/kimg 40.91   maintenance 0.0    cpumem 5.38   gpumem 6.21   augment 1.656\n",
            "Evaluating metrics...\n",
            "{\"results\": {\"fid50k_full\": 67.41849292288364}, \"metric\": \"fid50k_full\", \"total_time\": 482.4383795261383, \"total_time_str\": \"8m 02s\", \"num_gpus\": 1, \"snapshot_pkl\": \"network-snapshot-000320.pkl\", \"timestamp\": 1651142634.7352624}\n",
            "tick 81    kimg 324.0    time 4h 56m 15s   sec/tick 162.2   sec/kimg 40.55   maintenance 494.3  cpumem 5.39   gpumem 6.21   augment 1.686\n",
            "tick 82    kimg 328.0    time 4h 58m 58s   sec/tick 163.0   sec/kimg 40.75   maintenance 0.2    cpumem 5.39   gpumem 6.21   augment 1.715\n"
          ]
        }
      ],
      "source": [
        "import os\n",
        "\n",
        "# Modify these to suit your needs\n",
        "EXPERIMENTS = \"/content/drive/MyDrive/data/gan/experiments\"\n",
        "DATA = \"/content/drive/MyDrive/data/gan/dataset/all_128_png_mod\"\n",
        "SNAP = 10\n",
        "\n",
        "# Build the command and run it\n",
        "cmd = f\"/usr/bin/python3 /content/stylegan2-ada-pytorch/train.py --snap {SNAP} --outdir {EXPERIMENTS} --data {DATA} --resume=ffhq256\"\n",
        "!{cmd}"
      ]
    },
    {
      "cell_type": "code",
      "execution_count": null,
      "metadata": {
        "id": "j4g2FUCwG1U_"
      },
      "outputs": [],
      "source": [
        "!/usr/bin/python3 /content/stylegan2-ada-pytorch/train.py --snap 25 --resume /content/drive/MyDrive/data/gan/experiments/00007-circuit-auto1/network-snapshot-000500.pkl --outdir /content/drive/MyDrive/data/gan/experiments --data /content/drive/MyDrive/data/gan/dataset/_default_jpg"
      ]
    },
    {
      "cell_type": "markdown",
      "metadata": {
        "id": "NS-oe6jMG_0A"
      },
      "source": [
        "# Resume Training"
      ]
    },
    {
      "cell_type": "code",
      "execution_count": null,
      "metadata": {
        "id": "pvPZLsCUlzGn"
      },
      "outputs": [],
      "source": [
        "import os\n",
        "\n",
        "# Modify these to suit your needs\n",
        "EXPERIMENTS = \"/content/drive/MyDrive/data/gan/experiments\"\n",
        "NETWORK = \"network-snapshot-000100.pkl\"\n",
        "RESUME = os.path.join(EXPERIMENTS, \"00008-circuit-auto1-resumecustom\", NETWORK)\n",
        "DATA = \"/content/drive/MyDrive/data/gan/dataset/circuit\"\n",
        "SNAP = 10\n",
        "\n",
        "# Build the command and run it\n",
        "cmd = f\"/usr/bin/python3 /content/stylegan2-ada-pytorch/train.py --snap {SNAP} --resume {RESUME} --outdir {EXPERIMENTS} --data {DATA}\"\n",
        "!{cmd}"
      ]
    },
    {
      "cell_type": "markdown",
      "metadata": {
        "id": "xMm34ut0wKCb"
      },
      "source": []
    }
  ],
  "metadata": {
    "accelerator": "GPU",
    "colab": {
      "collapsed_sections": [],
      "name": "colab_gan_train.ipynb",
      "provenance": []
    },
    "kernelspec": {
      "display_name": "Python 3 (ipykernel)",
      "language": "python",
      "name": "python3"
    },
    "language_info": {
      "codemirror_mode": {
        "name": "ipython",
        "version": 3
      },
      "file_extension": ".py",
      "mimetype": "text/x-python",
      "name": "python",
      "nbconvert_exporter": "python",
      "pygments_lexer": "ipython3",
      "version": "3.9.5"
    },
    "widgets": {
      "application/vnd.jupyter.widget-state+json": {
        "1cd5b81de6b74e71abf0a959d835e360": {
          "model_module": "@jupyter-widgets/base",
          "model_module_version": "1.2.0",
          "model_name": "LayoutModel",
          "state": {
            "_model_module": "@jupyter-widgets/base",
            "_model_module_version": "1.2.0",
            "_model_name": "LayoutModel",
            "_view_count": null,
            "_view_module": "@jupyter-widgets/base",
            "_view_module_version": "1.2.0",
            "_view_name": "LayoutView",
            "align_content": null,
            "align_items": null,
            "align_self": null,
            "border": null,
            "bottom": null,
            "display": null,
            "flex": null,
            "flex_flow": null,
            "grid_area": null,
            "grid_auto_columns": null,
            "grid_auto_flow": null,
            "grid_auto_rows": null,
            "grid_column": null,
            "grid_gap": null,
            "grid_row": null,
            "grid_template_areas": null,
            "grid_template_columns": null,
            "grid_template_rows": null,
            "height": null,
            "justify_content": null,
            "justify_items": null,
            "left": null,
            "margin": null,
            "max_height": null,
            "max_width": null,
            "min_height": null,
            "min_width": null,
            "object_fit": null,
            "object_position": null,
            "order": null,
            "overflow": null,
            "overflow_x": null,
            "overflow_y": null,
            "padding": null,
            "right": null,
            "top": null,
            "visibility": null,
            "width": null
          }
        },
        "3aed04c821a24fd68f16c72a453734c6": {
          "model_module": "@jupyter-widgets/controls",
          "model_module_version": "1.5.0",
          "model_name": "HBoxModel",
          "state": {
            "_dom_classes": [],
            "_model_module": "@jupyter-widgets/controls",
            "_model_module_version": "1.5.0",
            "_model_name": "HBoxModel",
            "_view_count": null,
            "_view_module": "@jupyter-widgets/controls",
            "_view_module_version": "1.5.0",
            "_view_name": "HBoxView",
            "box_style": "",
            "children": [
              "IPY_MODEL_e408f845340f4cfeb62148cebe6f5026",
              "IPY_MODEL_5d1d75051c28492cae957cc2c35c7ec5",
              "IPY_MODEL_87f29953962349cc808a261d080e2704"
            ],
            "layout": "IPY_MODEL_652681d934a94299a843f0f3941e16c3"
          }
        },
        "3d96698513ed417391e4cdf46f4f6b63": {
          "model_module": "@jupyter-widgets/controls",
          "model_module_version": "1.5.0",
          "model_name": "DescriptionStyleModel",
          "state": {
            "_model_module": "@jupyter-widgets/controls",
            "_model_module_version": "1.5.0",
            "_model_name": "DescriptionStyleModel",
            "_view_count": null,
            "_view_module": "@jupyter-widgets/base",
            "_view_module_version": "1.2.0",
            "_view_name": "StyleView",
            "description_width": ""
          }
        },
        "5d1d75051c28492cae957cc2c35c7ec5": {
          "model_module": "@jupyter-widgets/controls",
          "model_module_version": "1.5.0",
          "model_name": "FloatProgressModel",
          "state": {
            "_dom_classes": [],
            "_model_module": "@jupyter-widgets/controls",
            "_model_module_version": "1.5.0",
            "_model_name": "FloatProgressModel",
            "_view_count": null,
            "_view_module": "@jupyter-widgets/controls",
            "_view_module_version": "1.5.0",
            "_view_name": "ProgressView",
            "bar_style": "success",
            "description": "",
            "description_tooltip": null,
            "layout": "IPY_MODEL_805f8b953f8b4cc99e885c5c5aac1b1c",
            "max": 2142,
            "min": 0,
            "orientation": "horizontal",
            "style": "IPY_MODEL_d5d33f6313a541beb5121ae39dcae63a",
            "value": 2142
          }
        },
        "652681d934a94299a843f0f3941e16c3": {
          "model_module": "@jupyter-widgets/base",
          "model_module_version": "1.2.0",
          "model_name": "LayoutModel",
          "state": {
            "_model_module": "@jupyter-widgets/base",
            "_model_module_version": "1.2.0",
            "_model_name": "LayoutModel",
            "_view_count": null,
            "_view_module": "@jupyter-widgets/base",
            "_view_module_version": "1.2.0",
            "_view_name": "LayoutView",
            "align_content": null,
            "align_items": null,
            "align_self": null,
            "border": null,
            "bottom": null,
            "display": null,
            "flex": null,
            "flex_flow": null,
            "grid_area": null,
            "grid_auto_columns": null,
            "grid_auto_flow": null,
            "grid_auto_rows": null,
            "grid_column": null,
            "grid_gap": null,
            "grid_row": null,
            "grid_template_areas": null,
            "grid_template_columns": null,
            "grid_template_rows": null,
            "height": null,
            "justify_content": null,
            "justify_items": null,
            "left": null,
            "margin": null,
            "max_height": null,
            "max_width": null,
            "min_height": null,
            "min_width": null,
            "object_fit": null,
            "object_position": null,
            "order": null,
            "overflow": null,
            "overflow_x": null,
            "overflow_y": null,
            "padding": null,
            "right": null,
            "top": null,
            "visibility": null,
            "width": null
          }
        },
        "805f8b953f8b4cc99e885c5c5aac1b1c": {
          "model_module": "@jupyter-widgets/base",
          "model_module_version": "1.2.0",
          "model_name": "LayoutModel",
          "state": {
            "_model_module": "@jupyter-widgets/base",
            "_model_module_version": "1.2.0",
            "_model_name": "LayoutModel",
            "_view_count": null,
            "_view_module": "@jupyter-widgets/base",
            "_view_module_version": "1.2.0",
            "_view_name": "LayoutView",
            "align_content": null,
            "align_items": null,
            "align_self": null,
            "border": null,
            "bottom": null,
            "display": null,
            "flex": null,
            "flex_flow": null,
            "grid_area": null,
            "grid_auto_columns": null,
            "grid_auto_flow": null,
            "grid_auto_rows": null,
            "grid_column": null,
            "grid_gap": null,
            "grid_row": null,
            "grid_template_areas": null,
            "grid_template_columns": null,
            "grid_template_rows": null,
            "height": null,
            "justify_content": null,
            "justify_items": null,
            "left": null,
            "margin": null,
            "max_height": null,
            "max_width": null,
            "min_height": null,
            "min_width": null,
            "object_fit": null,
            "object_position": null,
            "order": null,
            "overflow": null,
            "overflow_x": null,
            "overflow_y": null,
            "padding": null,
            "right": null,
            "top": null,
            "visibility": null,
            "width": null
          }
        },
        "87f29953962349cc808a261d080e2704": {
          "model_module": "@jupyter-widgets/controls",
          "model_module_version": "1.5.0",
          "model_name": "HTMLModel",
          "state": {
            "_dom_classes": [],
            "_model_module": "@jupyter-widgets/controls",
            "_model_module_version": "1.5.0",
            "_model_name": "HTMLModel",
            "_view_count": null,
            "_view_module": "@jupyter-widgets/controls",
            "_view_module_version": "1.5.0",
            "_view_name": "HTMLView",
            "description": "",
            "description_tooltip": null,
            "layout": "IPY_MODEL_1cd5b81de6b74e71abf0a959d835e360",
            "placeholder": "​",
            "style": "IPY_MODEL_911a0c16b6184eada73eda2a5aa8bcda",
            "value": " 2142/2142 [00:03&lt;00:00, 995.02it/s]"
          }
        },
        "911a0c16b6184eada73eda2a5aa8bcda": {
          "model_module": "@jupyter-widgets/controls",
          "model_module_version": "1.5.0",
          "model_name": "DescriptionStyleModel",
          "state": {
            "_model_module": "@jupyter-widgets/controls",
            "_model_module_version": "1.5.0",
            "_model_name": "DescriptionStyleModel",
            "_view_count": null,
            "_view_module": "@jupyter-widgets/base",
            "_view_module_version": "1.2.0",
            "_view_name": "StyleView",
            "description_width": ""
          }
        },
        "be657ae115644370af0142cc54e993ff": {
          "model_module": "@jupyter-widgets/base",
          "model_module_version": "1.2.0",
          "model_name": "LayoutModel",
          "state": {
            "_model_module": "@jupyter-widgets/base",
            "_model_module_version": "1.2.0",
            "_model_name": "LayoutModel",
            "_view_count": null,
            "_view_module": "@jupyter-widgets/base",
            "_view_module_version": "1.2.0",
            "_view_name": "LayoutView",
            "align_content": null,
            "align_items": null,
            "align_self": null,
            "border": null,
            "bottom": null,
            "display": null,
            "flex": null,
            "flex_flow": null,
            "grid_area": null,
            "grid_auto_columns": null,
            "grid_auto_flow": null,
            "grid_auto_rows": null,
            "grid_column": null,
            "grid_gap": null,
            "grid_row": null,
            "grid_template_areas": null,
            "grid_template_columns": null,
            "grid_template_rows": null,
            "height": null,
            "justify_content": null,
            "justify_items": null,
            "left": null,
            "margin": null,
            "max_height": null,
            "max_width": null,
            "min_height": null,
            "min_width": null,
            "object_fit": null,
            "object_position": null,
            "order": null,
            "overflow": null,
            "overflow_x": null,
            "overflow_y": null,
            "padding": null,
            "right": null,
            "top": null,
            "visibility": null,
            "width": null
          }
        },
        "d5d33f6313a541beb5121ae39dcae63a": {
          "model_module": "@jupyter-widgets/controls",
          "model_module_version": "1.5.0",
          "model_name": "ProgressStyleModel",
          "state": {
            "_model_module": "@jupyter-widgets/controls",
            "_model_module_version": "1.5.0",
            "_model_name": "ProgressStyleModel",
            "_view_count": null,
            "_view_module": "@jupyter-widgets/base",
            "_view_module_version": "1.2.0",
            "_view_name": "StyleView",
            "bar_color": null,
            "description_width": ""
          }
        },
        "e408f845340f4cfeb62148cebe6f5026": {
          "model_module": "@jupyter-widgets/controls",
          "model_module_version": "1.5.0",
          "model_name": "HTMLModel",
          "state": {
            "_dom_classes": [],
            "_model_module": "@jupyter-widgets/controls",
            "_model_module_version": "1.5.0",
            "_model_name": "HTMLModel",
            "_view_count": null,
            "_view_module": "@jupyter-widgets/controls",
            "_view_module_version": "1.5.0",
            "_view_name": "HTMLView",
            "description": "",
            "description_tooltip": null,
            "layout": "IPY_MODEL_be657ae115644370af0142cc54e993ff",
            "placeholder": "​",
            "style": "IPY_MODEL_3d96698513ed417391e4cdf46f4f6b63",
            "value": "100%"
          }
        }
      }
    }
  },
  "nbformat": 4,
  "nbformat_minor": 0
}
